{
  "nbformat": 4,
  "nbformat_minor": 0,
  "metadata": {
    "colab": {
      "name": "Untitled4.ipynb",
      "provenance": []
    },
    "kernelspec": {
      "name": "python3",
      "display_name": "Python 3"
    }
  },
  "cells": [
    {
      "cell_type": "code",
      "metadata": {
        "id": "VATzxIBf_I0h",
        "colab_type": "code",
        "colab": {}
      },
      "source": [
        "import numpy as np\n",
        "import matplotlib.pyplot as plt\n",
        "from sklearn.decomposition import PCA"
      ],
      "execution_count": null,
      "outputs": []
    },
    {
      "cell_type": "code",
      "metadata": {
        "id": "_gUy8yWS_j4I",
        "colab_type": "code",
        "colab": {}
      },
      "source": [
        "rng = np.random.RandomState(1)\n",
        "X = np.dot(rng.rand(2,2),rng.randn(2,200)).T\n",
        "plt.scatter(X[:,0],X[:,1])\n",
        "plt.axis('equal')\n",
        "plt.show()"
      ],
      "execution_count": null,
      "outputs": []
    },
    {
      "cell_type": "code",
      "metadata": {
        "id": "0o3JwRxoArv8",
        "colab_type": "code",
        "colab": {}
      },
      "source": [
        "pca = PCA(n_components=2)\n",
        "pca.fit(X)"
      ],
      "execution_count": null,
      "outputs": []
    },
    {
      "cell_type": "code",
      "metadata": {
        "id": "ZCR576H2AqnM",
        "colab_type": "code",
        "colab": {}
      },
      "source": [
        "def draw_vector(v0,v1,ax=None):\n",
        "  ax = ax or plt.gca()\n",
        "  arrowprops = dict(arrowstyle='->',linewidth=2,shrinkA=0,shrinks=0)\n",
        "  ax.annotate('',v1,v0,arrowprops=arrowprops)"
      ],
      "execution_count": null,
      "outputs": []
    }
  ]
}